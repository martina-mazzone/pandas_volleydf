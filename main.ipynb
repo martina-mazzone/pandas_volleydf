{
 "cells": [
  {
   "cell_type": "code",
   "execution_count": 19,
   "metadata": {},
   "outputs": [],
   "source": [
    "import pandas as pd\n",
    "import numpy as np"
   ]
  },
  {
   "cell_type": "code",
   "execution_count": 2,
   "metadata": {},
   "outputs": [],
   "source": [
    "df = pd.read_csv('Dataframe_Volley.csv')"
   ]
  },
  {
   "cell_type": "code",
   "execution_count": 7,
   "metadata": {},
   "outputs": [],
   "source": [
    "# Introduce NaN values randomly in the dataframe\n",
    "df_with_nan = df.copy()"
   ]
  },
  {
   "cell_type": "code",
   "execution_count": 20,
   "metadata": {},
   "outputs": [],
   "source": [
    "# Randomly replace some values with NaN\n",
    "for col in df_with_nan.columns:\n",
    "    indices = np.random.choice(df_with_nan.index, size=2, replace=False)  # Randomly select 2 indices\n",
    "    df_with_nan.loc[indices, col] = np.nan\n"
   ]
  },
  {
   "cell_type": "code",
   "execution_count": 23,
   "metadata": {},
   "outputs": [],
   "source": [
    "# Define a function to highlight NaN values\n",
    "def highlight_nan(s):\n",
    "    return ['background-color: yellow' if pd.isna(val) else '' for val in s]"
   ]
  },
  {
   "cell_type": "code",
   "execution_count": 26,
   "metadata": {},
   "outputs": [
    {
     "data": {
      "text/html": [
       "<div>\n",
       "<style scoped>\n",
       "    .dataframe tbody tr th:only-of-type {\n",
       "        vertical-align: middle;\n",
       "    }\n",
       "\n",
       "    .dataframe tbody tr th {\n",
       "        vertical-align: top;\n",
       "    }\n",
       "\n",
       "    .dataframe thead th {\n",
       "        text-align: right;\n",
       "    }\n",
       "</style>\n",
       "<table border=\"1\" class=\"dataframe\">\n",
       "  <thead>\n",
       "    <tr style=\"text-align: right;\">\n",
       "      <th></th>\n",
       "      <th>Name</th>\n",
       "      <th>Date_Of_Birth</th>\n",
       "      <th>Age</th>\n",
       "      <th>Height</th>\n",
       "    </tr>\n",
       "  </thead>\n",
       "  <tbody>\n",
       "    <tr>\n",
       "      <th>0</th>\n",
       "      <td>Osmany Juantorena</td>\n",
       "      <td>12/07/1985</td>\n",
       "      <td>39.0</td>\n",
       "      <td>200.0</td>\n",
       "    </tr>\n",
       "    <tr>\n",
       "      <th>1</th>\n",
       "      <td>Ivan Zaytsev</td>\n",
       "      <td>02/10/1988</td>\n",
       "      <td>36.0</td>\n",
       "      <td>204.0</td>\n",
       "    </tr>\n",
       "    <tr>\n",
       "      <th>2</th>\n",
       "      <td>Simone Giannelli</td>\n",
       "      <td>09/08/1986</td>\n",
       "      <td>28.0</td>\n",
       "      <td>198.0</td>\n",
       "    </tr>\n",
       "    <tr>\n",
       "      <th>3</th>\n",
       "      <td>[NaN]</td>\n",
       "      <td>22/02/1982</td>\n",
       "      <td>42.0</td>\n",
       "      <td>195.0</td>\n",
       "    </tr>\n",
       "    <tr>\n",
       "      <th>4</th>\n",
       "      <td>Alessandro Michieletto</td>\n",
       "      <td>[NaN]</td>\n",
       "      <td>23.0</td>\n",
       "      <td>211.0</td>\n",
       "    </tr>\n",
       "    <tr>\n",
       "      <th>5</th>\n",
       "      <td>Daniele Lavia</td>\n",
       "      <td>04/11/1999</td>\n",
       "      <td>[NaN]</td>\n",
       "      <td>[NaN]</td>\n",
       "    </tr>\n",
       "    <tr>\n",
       "      <th>6</th>\n",
       "      <td>Yuri Romano</td>\n",
       "      <td>[NaN]</td>\n",
       "      <td>28.0</td>\n",
       "      <td>[NaN]</td>\n",
       "    </tr>\n",
       "    <tr>\n",
       "      <th>7</th>\n",
       "      <td>Alessandro Bovolenta</td>\n",
       "      <td>27/05/2004</td>\n",
       "      <td>[NaN]</td>\n",
       "      <td>207.0</td>\n",
       "    </tr>\n",
       "    <tr>\n",
       "      <th>8</th>\n",
       "      <td>[NaN]</td>\n",
       "      <td>17/08/1975</td>\n",
       "      <td>49.0</td>\n",
       "      <td>202.0</td>\n",
       "    </tr>\n",
       "    <tr>\n",
       "      <th>9</th>\n",
       "      <td>Ferdinando De Giorgi</td>\n",
       "      <td>10/10/1961</td>\n",
       "      <td>63.0</td>\n",
       "      <td>178.0</td>\n",
       "    </tr>\n",
       "  </tbody>\n",
       "</table>\n",
       "</div>"
      ],
      "text/plain": [
       "                     Name Date_Of_Birth    Age Height\n",
       "0       Osmany Juantorena    12/07/1985   39.0  200.0\n",
       "1            Ivan Zaytsev    02/10/1988   36.0  204.0\n",
       "2        Simone Giannelli    09/08/1986   28.0  198.0\n",
       "3                   [NaN]    22/02/1982   42.0  195.0\n",
       "4  Alessandro Michieletto         [NaN]   23.0  211.0\n",
       "5           Daniele Lavia    04/11/1999  [NaN]  [NaN]\n",
       "6             Yuri Romano         [NaN]   28.0  [NaN]\n",
       "7    Alessandro Bovolenta    27/05/2004  [NaN]  207.0\n",
       "8                   [NaN]    17/08/1975   49.0  202.0\n",
       "9    Ferdinando De Giorgi    10/10/1961   63.0  178.0"
      ]
     },
     "execution_count": 26,
     "metadata": {},
     "output_type": "execute_result"
    }
   ],
   "source": [
    "df_with_nan_console = df_with_nan.fillna('[NaN]')\n",
    "df_with_nan_console"
   ]
  }
 ],
 "metadata": {
  "kernelspec": {
   "display_name": ".venv",
   "language": "python",
   "name": "python3"
  },
  "language_info": {
   "codemirror_mode": {
    "name": "ipython",
    "version": 3
   },
   "file_extension": ".py",
   "mimetype": "text/x-python",
   "name": "python",
   "nbconvert_exporter": "python",
   "pygments_lexer": "ipython3",
   "version": "3.13.0"
  }
 },
 "nbformat": 4,
 "nbformat_minor": 2
}
